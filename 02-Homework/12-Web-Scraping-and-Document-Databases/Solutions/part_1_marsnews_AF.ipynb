{
 "cells": [
  {
   "cell_type": "markdown",
   "metadata": {},
   "source": [
    "# Module 12 Challenge\n",
    "## Deliverable 1: Scrape Titles and Preview Text from Mars News"
   ]
  },
  {
   "cell_type": "code",
   "execution_count": 1,
   "metadata": {},
   "outputs": [],
   "source": [
    "# Import Splinter and BeautifulSoup\n",
    "import pandas as pd\n",
    "from splinter import Browser\n",
    "from bs4 import BeautifulSoup \n",
    "from webdriver_manager.chrome import ChromeDriverManager"
   ]
  },
  {
   "cell_type": "code",
   "execution_count": 2,
   "metadata": {
    "scrolled": true
   },
   "outputs": [],
   "source": [
    "executable_path = {'executable_path': ChromeDriverManager().install()}\n",
    "browser = Browser('chrome', **executable_path, headless=False)"
   ]
  },
  {
   "cell_type": "markdown",
   "metadata": {},
   "source": [
    "### Step 1: Visit the Website\n",
    "\n",
    "1. Use automated browsing to visit the [Mars NASA news site](https://redplanetscience.com). Inspect the page to identify which elements to scrape.\n",
    "\n",
    "      > **Hint** To identify which elements to scrape, you might want to inspect the page by using Chrome DevTools."
   ]
  },
  {
   "cell_type": "code",
   "execution_count": 3,
   "metadata": {},
   "outputs": [],
   "source": [
    "# Visit the Mars NASA news site\n",
    "browser.visit(\"https://redplanetscience.com\")"
   ]
  },
  {
   "cell_type": "code",
   "execution_count": 4,
   "metadata": {},
   "outputs": [
    {
     "data": {
      "text/plain": [
       "'<html><head>\\n      <meta charset=\"utf-8\">\\n      <meta name=\"viewport\" content=\"width=device-width, initial-scale=1\">\\n      <link href=\"https://cdn.jsdelivr.net/npm/bootstrap@5.0.0-beta1/dist/css/bootstrap.min.css\" rel=\"stylesheet\" integrity=\"sha384-giJF6kkoqNQ00vy+HMDP7azOuL0xtbfIcaT9wjKHr8RbDVddVHyTfAAsrekwKmP1\" crossorigin=\"anonymous\">\\n      <link rel=\"stylesheet\" type=\"text/css\" href=\"css/font.css\">\\n      <link rel=\"stylesheet\" type=\"text/css\" href=\"css/app.css\">\\n      <link rel=\"stylesheet\" '"
      ]
     },
     "execution_count": 4,
     "metadata": {},
     "output_type": "execute_result"
    }
   ],
   "source": [
    "html = browser.html\n",
    "html[0:500]"
   ]
  },
  {
   "cell_type": "markdown",
   "metadata": {},
   "source": [
    "### Step 2: Scrape the Website\n",
    "\n",
    "Create a Beautiful Soup object and use it to extract text elements from the website."
   ]
  },
  {
   "cell_type": "code",
   "execution_count": 5,
   "metadata": {},
   "outputs": [
    {
     "data": {
      "text/plain": [
       "bs4.BeautifulSoup"
      ]
     },
     "execution_count": 5,
     "metadata": {},
     "output_type": "execute_result"
    }
   ],
   "source": [
    "# Create a Beautiful Soup object\n",
    "planetsopa = BeautifulSoup(html)\n",
    "type(planetsopa)"
   ]
  },
  {
   "cell_type": "code",
   "execution_count": 6,
   "metadata": {},
   "outputs": [
    {
     "data": {
      "text/plain": [
       "15"
      ]
     },
     "execution_count": 6,
     "metadata": {},
     "output_type": "execute_result"
    }
   ],
   "source": [
    "# Extract all the text elements\n",
    "articles = planetsopa.find_all('div', class_='list_text')\n",
    "len(articles)"
   ]
  },
  {
   "cell_type": "code",
   "execution_count": 7,
   "metadata": {},
   "outputs": [
    {
     "data": {
      "text/plain": [
       "<div class=\"list_text\">\n",
       "<div class=\"list_date\">March 28, 2023</div>\n",
       "<div class=\"content_title\">NASA Prepares for Moon and Mars With New Addition to Its Deep Space Network</div>\n",
       "<div class=\"article_teaser_body\">Robotic spacecraft will be able to communicate with the dish using radio waves and lasers.</div>\n",
       "</div>"
      ]
     },
     "execution_count": 7,
     "metadata": {},
     "output_type": "execute_result"
    }
   ],
   "source": [
    "article = articles[0]\n",
    "article"
   ]
  },
  {
   "cell_type": "code",
   "execution_count": 8,
   "metadata": {},
   "outputs": [
    {
     "data": {
      "text/plain": [
       "'NASA Prepares for Moon and Mars With New Addition to Its Deep Space Network'"
      ]
     },
     "execution_count": 8,
     "metadata": {},
     "output_type": "execute_result"
    }
   ],
   "source": [
    "article.find(\"div\", {\"class\": \"content_title\"}).text"
   ]
  },
  {
   "cell_type": "code",
   "execution_count": 9,
   "metadata": {},
   "outputs": [
    {
     "data": {
      "text/plain": [
       "'March 28, 2023'"
      ]
     },
     "execution_count": 9,
     "metadata": {},
     "output_type": "execute_result"
    }
   ],
   "source": [
    "article.find(\"div\", {\"class\": \"list_date\"}).text"
   ]
  },
  {
   "cell_type": "code",
   "execution_count": 10,
   "metadata": {},
   "outputs": [
    {
     "data": {
      "text/plain": [
       "'Robotic spacecraft will be able to communicate with the dish using radio waves and lasers.'"
      ]
     },
     "execution_count": 10,
     "metadata": {},
     "output_type": "execute_result"
    }
   ],
   "source": [
    "article.find(\"div\", {\"class\": \"article_teaser_body\"}).text"
   ]
  },
  {
   "cell_type": "markdown",
   "metadata": {},
   "source": [
    "### Step 3: Store the Results\n",
    "\n",
    "Extract the titles and preview text of the news articles that you scraped. Store the scraping results in Python data structures as follows:\n",
    "\n",
    "* Store each title-and-preview pair in a Python dictionary. And, give each dictionary two keys: `title` and `preview`. An example is the following:\n",
    "\n",
    "  ```python\n",
    "  {'title': \"Mars Rover Begins Mission!\", \n",
    "        'preview': \"NASA's Mars Rover begins a multiyear mission to collect data about the little-explored planet.\"}\n",
    "  ```\n",
    "\n",
    "* Store all the dictionaries in a Python list.\n",
    "\n",
    "* Print the list in your notebook."
   ]
  },
  {
   "cell_type": "code",
   "execution_count": 11,
   "metadata": {},
   "outputs": [],
   "source": [
    "# Create an empty list to store the dictionaries\n",
    "data = []"
   ]
  },
  {
   "cell_type": "code",
   "execution_count": 13,
   "metadata": {},
   "outputs": [
    {
     "data": {
      "text/html": [
       "<div>\n",
       "<style scoped>\n",
       "    .dataframe tbody tr th:only-of-type {\n",
       "        vertical-align: middle;\n",
       "    }\n",
       "\n",
       "    .dataframe tbody tr th {\n",
       "        vertical-align: top;\n",
       "    }\n",
       "\n",
       "    .dataframe thead th {\n",
       "        text-align: right;\n",
       "    }\n",
       "</style>\n",
       "<table border=\"1\" class=\"dataframe\">\n",
       "  <thead>\n",
       "    <tr style=\"text-align: right;\">\n",
       "      <th></th>\n",
       "      <th>title</th>\n",
       "      <th>date</th>\n",
       "      <th>text</th>\n",
       "    </tr>\n",
       "  </thead>\n",
       "  <tbody>\n",
       "    <tr>\n",
       "      <th>0</th>\n",
       "      <td>NASA Prepares for Moon and Mars With New Addit...</td>\n",
       "      <td>March 28, 2023</td>\n",
       "      <td>Robotic spacecraft will be able to communicate...</td>\n",
       "    </tr>\n",
       "    <tr>\n",
       "      <th>1</th>\n",
       "      <td>NASA Prepares for Moon and Mars With New Addit...</td>\n",
       "      <td>March 28, 2023</td>\n",
       "      <td>Robotic spacecraft will be able to communicate...</td>\n",
       "    </tr>\n",
       "    <tr>\n",
       "      <th>2</th>\n",
       "      <td>NASA Prepares for Moon and Mars With New Addit...</td>\n",
       "      <td>March 28, 2023</td>\n",
       "      <td>Robotic spacecraft will be able to communicate...</td>\n",
       "    </tr>\n",
       "    <tr>\n",
       "      <th>3</th>\n",
       "      <td>NASA Prepares for Moon and Mars With New Addit...</td>\n",
       "      <td>March 28, 2023</td>\n",
       "      <td>Robotic spacecraft will be able to communicate...</td>\n",
       "    </tr>\n",
       "    <tr>\n",
       "      <th>4</th>\n",
       "      <td>NASA Prepares for Moon and Mars With New Addit...</td>\n",
       "      <td>March 28, 2023</td>\n",
       "      <td>Robotic spacecraft will be able to communicate...</td>\n",
       "    </tr>\n",
       "    <tr>\n",
       "      <th>5</th>\n",
       "      <td>NASA Prepares for Moon and Mars With New Addit...</td>\n",
       "      <td>March 28, 2023</td>\n",
       "      <td>Robotic spacecraft will be able to communicate...</td>\n",
       "    </tr>\n",
       "    <tr>\n",
       "      <th>6</th>\n",
       "      <td>NASA Prepares for Moon and Mars With New Addit...</td>\n",
       "      <td>March 28, 2023</td>\n",
       "      <td>Robotic spacecraft will be able to communicate...</td>\n",
       "    </tr>\n",
       "    <tr>\n",
       "      <th>7</th>\n",
       "      <td>NASA Prepares for Moon and Mars With New Addit...</td>\n",
       "      <td>March 28, 2023</td>\n",
       "      <td>Robotic spacecraft will be able to communicate...</td>\n",
       "    </tr>\n",
       "    <tr>\n",
       "      <th>8</th>\n",
       "      <td>NASA Prepares for Moon and Mars With New Addit...</td>\n",
       "      <td>March 28, 2023</td>\n",
       "      <td>Robotic spacecraft will be able to communicate...</td>\n",
       "    </tr>\n",
       "    <tr>\n",
       "      <th>9</th>\n",
       "      <td>NASA Prepares for Moon and Mars With New Addit...</td>\n",
       "      <td>March 28, 2023</td>\n",
       "      <td>Robotic spacecraft will be able to communicate...</td>\n",
       "    </tr>\n",
       "    <tr>\n",
       "      <th>10</th>\n",
       "      <td>NASA Prepares for Moon and Mars With New Addit...</td>\n",
       "      <td>March 28, 2023</td>\n",
       "      <td>Robotic spacecraft will be able to communicate...</td>\n",
       "    </tr>\n",
       "    <tr>\n",
       "      <th>11</th>\n",
       "      <td>NASA Prepares for Moon and Mars With New Addit...</td>\n",
       "      <td>March 28, 2023</td>\n",
       "      <td>Robotic spacecraft will be able to communicate...</td>\n",
       "    </tr>\n",
       "    <tr>\n",
       "      <th>12</th>\n",
       "      <td>NASA Prepares for Moon and Mars With New Addit...</td>\n",
       "      <td>March 28, 2023</td>\n",
       "      <td>Robotic spacecraft will be able to communicate...</td>\n",
       "    </tr>\n",
       "    <tr>\n",
       "      <th>13</th>\n",
       "      <td>NASA Prepares for Moon and Mars With New Addit...</td>\n",
       "      <td>March 28, 2023</td>\n",
       "      <td>Robotic spacecraft will be able to communicate...</td>\n",
       "    </tr>\n",
       "    <tr>\n",
       "      <th>14</th>\n",
       "      <td>NASA Prepares for Moon and Mars With New Addit...</td>\n",
       "      <td>March 28, 2023</td>\n",
       "      <td>Robotic spacecraft will be able to communicate...</td>\n",
       "    </tr>\n",
       "  </tbody>\n",
       "</table>\n",
       "</div>"
      ],
      "text/plain": [
       "                                                title            date  \\\n",
       "0   NASA Prepares for Moon and Mars With New Addit...  March 28, 2023   \n",
       "1   NASA Prepares for Moon and Mars With New Addit...  March 28, 2023   \n",
       "2   NASA Prepares for Moon and Mars With New Addit...  March 28, 2023   \n",
       "3   NASA Prepares for Moon and Mars With New Addit...  March 28, 2023   \n",
       "4   NASA Prepares for Moon and Mars With New Addit...  March 28, 2023   \n",
       "5   NASA Prepares for Moon and Mars With New Addit...  March 28, 2023   \n",
       "6   NASA Prepares for Moon and Mars With New Addit...  March 28, 2023   \n",
       "7   NASA Prepares for Moon and Mars With New Addit...  March 28, 2023   \n",
       "8   NASA Prepares for Moon and Mars With New Addit...  March 28, 2023   \n",
       "9   NASA Prepares for Moon and Mars With New Addit...  March 28, 2023   \n",
       "10  NASA Prepares for Moon and Mars With New Addit...  March 28, 2023   \n",
       "11  NASA Prepares for Moon and Mars With New Addit...  March 28, 2023   \n",
       "12  NASA Prepares for Moon and Mars With New Addit...  March 28, 2023   \n",
       "13  NASA Prepares for Moon and Mars With New Addit...  March 28, 2023   \n",
       "14  NASA Prepares for Moon and Mars With New Addit...  March 28, 2023   \n",
       "\n",
       "                                                 text  \n",
       "0   Robotic spacecraft will be able to communicate...  \n",
       "1   Robotic spacecraft will be able to communicate...  \n",
       "2   Robotic spacecraft will be able to communicate...  \n",
       "3   Robotic spacecraft will be able to communicate...  \n",
       "4   Robotic spacecraft will be able to communicate...  \n",
       "5   Robotic spacecraft will be able to communicate...  \n",
       "6   Robotic spacecraft will be able to communicate...  \n",
       "7   Robotic spacecraft will be able to communicate...  \n",
       "8   Robotic spacecraft will be able to communicate...  \n",
       "9   Robotic spacecraft will be able to communicate...  \n",
       "10  Robotic spacecraft will be able to communicate...  \n",
       "11  Robotic spacecraft will be able to communicate...  \n",
       "12  Robotic spacecraft will be able to communicate...  \n",
       "13  Robotic spacecraft will be able to communicate...  \n",
       "14  Robotic spacecraft will be able to communicate...  "
      ]
     },
     "execution_count": 13,
     "metadata": {},
     "output_type": "execute_result"
    }
   ],
   "source": [
    "# Loop through the text elements\n",
    "# Extract the title and preview text from the elements\n",
    "# Store each title and preview pair in a dictionary\n",
    "# Add the dictionary to the list\n",
    "for aricle in articles:\n",
    "    title = article.find(\"div\", {\"class\": \"content_title\"}).text\n",
    "    date = article.find(\"div\", {\"class\": \"list_date\"}).text\n",
    "    text = article.find(\"div\", {\"class\": \"article_teaser_body\"}).text\n",
    "    \n",
    "    row = {}\n",
    "    row[\"title\"] = title\n",
    "    row[\"date\"] = date\n",
    "    row[\"text\"] = text\n",
    "\n",
    "    data.append(row)\n",
    "\n",
    "nasadf = pd.DataFrame(data)\n",
    "nasadf"
   ]
  },
  {
   "cell_type": "code",
   "execution_count": 14,
   "metadata": {},
   "outputs": [
    {
     "name": "stdout",
     "output_type": "stream",
     "text": [
      "title  :  NASA Prepares for Moon and Mars With New Addition to Its Deep Space Network\n",
      "date  :  March 28, 2023\n",
      "text  :  Robotic spacecraft will be able to communicate with the dish using radio waves and lasers.\n",
      "----\n",
      "title  :  NASA Prepares for Moon and Mars With New Addition to Its Deep Space Network\n",
      "date  :  March 28, 2023\n",
      "text  :  Robotic spacecraft will be able to communicate with the dish using radio waves and lasers.\n",
      "----\n",
      "title  :  NASA Prepares for Moon and Mars With New Addition to Its Deep Space Network\n",
      "date  :  March 28, 2023\n",
      "text  :  Robotic spacecraft will be able to communicate with the dish using radio waves and lasers.\n",
      "----\n",
      "title  :  NASA Prepares for Moon and Mars With New Addition to Its Deep Space Network\n",
      "date  :  March 28, 2023\n",
      "text  :  Robotic spacecraft will be able to communicate with the dish using radio waves and lasers.\n",
      "----\n",
      "title  :  NASA Prepares for Moon and Mars With New Addition to Its Deep Space Network\n",
      "date  :  March 28, 2023\n",
      "text  :  Robotic spacecraft will be able to communicate with the dish using radio waves and lasers.\n",
      "----\n",
      "title  :  NASA Prepares for Moon and Mars With New Addition to Its Deep Space Network\n",
      "date  :  March 28, 2023\n",
      "text  :  Robotic spacecraft will be able to communicate with the dish using radio waves and lasers.\n",
      "----\n",
      "title  :  NASA Prepares for Moon and Mars With New Addition to Its Deep Space Network\n",
      "date  :  March 28, 2023\n",
      "text  :  Robotic spacecraft will be able to communicate with the dish using radio waves and lasers.\n",
      "----\n",
      "title  :  NASA Prepares for Moon and Mars With New Addition to Its Deep Space Network\n",
      "date  :  March 28, 2023\n",
      "text  :  Robotic spacecraft will be able to communicate with the dish using radio waves and lasers.\n",
      "----\n",
      "title  :  NASA Prepares for Moon and Mars With New Addition to Its Deep Space Network\n",
      "date  :  March 28, 2023\n",
      "text  :  Robotic spacecraft will be able to communicate with the dish using radio waves and lasers.\n",
      "----\n",
      "title  :  NASA Prepares for Moon and Mars With New Addition to Its Deep Space Network\n",
      "date  :  March 28, 2023\n",
      "text  :  Robotic spacecraft will be able to communicate with the dish using radio waves and lasers.\n",
      "----\n",
      "title  :  NASA Prepares for Moon and Mars With New Addition to Its Deep Space Network\n",
      "date  :  March 28, 2023\n",
      "text  :  Robotic spacecraft will be able to communicate with the dish using radio waves and lasers.\n",
      "----\n",
      "title  :  NASA Prepares for Moon and Mars With New Addition to Its Deep Space Network\n",
      "date  :  March 28, 2023\n",
      "text  :  Robotic spacecraft will be able to communicate with the dish using radio waves and lasers.\n",
      "----\n",
      "title  :  NASA Prepares for Moon and Mars With New Addition to Its Deep Space Network\n",
      "date  :  March 28, 2023\n",
      "text  :  Robotic spacecraft will be able to communicate with the dish using radio waves and lasers.\n",
      "----\n",
      "title  :  NASA Prepares for Moon and Mars With New Addition to Its Deep Space Network\n",
      "date  :  March 28, 2023\n",
      "text  :  Robotic spacecraft will be able to communicate with the dish using radio waves and lasers.\n",
      "----\n",
      "title  :  NASA Prepares for Moon and Mars With New Addition to Its Deep Space Network\n",
      "date  :  March 28, 2023\n",
      "text  :  Robotic spacecraft will be able to communicate with the dish using radio waves and lasers.\n",
      "----\n"
     ]
    }
   ],
   "source": [
    "# Print the list to confirm success\n",
    "for article in data:\n",
    "    for key, value in article.items():\n",
    "        print(key, ' : ', value)\n",
    "    print (\"----\")"
   ]
  },
  {
   "cell_type": "code",
   "execution_count": 15,
   "metadata": {},
   "outputs": [],
   "source": [
    "browser.quit()"
   ]
  },
  {
   "cell_type": "markdown",
   "metadata": {},
   "source": [
    "### (Optional) Step 4: Export the Data\n",
    "\n",
    "Optionally, store the scraped data in a file or database (to ease sharing the data with others). To do so, export the scraped data to either a JSON file or a MongoDB database."
   ]
  }
 ],
 "metadata": {
  "kernelspec": {
   "display_name": "Python 3 (ipykernel)",
   "language": "python",
   "name": "python3"
  },
  "language_info": {
   "codemirror_mode": {
    "name": "ipython",
    "version": 3
   },
   "file_extension": ".py",
   "mimetype": "text/x-python",
   "name": "python",
   "nbconvert_exporter": "python",
   "pygments_lexer": "ipython3",
   "version": "3.9.12"
  }
 },
 "nbformat": 4,
 "nbformat_minor": 4
}
